{
 "cells": [
  {
   "cell_type": "code",
   "execution_count": 211,
   "metadata": {},
   "outputs": [
    {
     "name": "stdout",
     "output_type": "stream",
     "text": [
      "Amma\n"
     ]
    }
   ],
   "source": [
    "name = \"Amma\"\n",
    "print(name)"
   ]
  },
  {
   "cell_type": "code",
   "execution_count": 220,
   "metadata": {},
   "outputs": [
    {
     "name": "stdout",
     "output_type": "stream",
     "text": [
      "Lakshmi\n",
      "Eswar\n",
      "Lakshmi Eswar\n"
     ]
    }
   ],
   "source": [
    "print(\"Lakshmi\") # by default print go to next line\n",
    "print(\"Eswar\")\n",
    "print(\"Lakshmi\",end=\" \") # end prevents print to not go to next line \n",
    "print(\"Eswar\")"
   ]
  },
  {
   "cell_type": "code",
   "execution_count": 242,
   "metadata": {},
   "outputs": [
    {
     "name": "stdout",
     "output_type": "stream",
     "text": [
      "power of 100 is 10000\n",
      "Sqrt of 100 is 10.0\n"
     ]
    }
   ],
   "source": [
    "n=100\n",
    "print(\"power of {} is {}\".format(n,n**2))\n",
    "print(\"Sqrt of {} is {}\".format(n,n**0.5))"
   ]
  },
  {
   "cell_type": "code",
   "execution_count": 212,
   "metadata": {},
   "outputs": [
    {
     "name": "stdout",
     "output_type": "stream",
     "text": [
      "1,2,3,4,5,6,7,8,9,10,"
     ]
    }
   ],
   "source": [
    "# To print numbers in increasing till n\n",
    "n=10\n",
    "for i in range(1,n+1):\n",
    "    print(i,end=\",\")"
   ]
  },
  {
   "cell_type": "code",
   "execution_count": 213,
   "metadata": {},
   "outputs": [
    {
     "name": "stdout",
     "output_type": "stream",
     "text": [
      "10,9,8,7,6,5,4,3,2,1,"
     ]
    }
   ],
   "source": [
    "# To print numbers in decreasing from n to 1\n",
    "n=10\n",
    "for i in range(n,0,-1):\n",
    "    print(i,end=\",\")"
   ]
  },
  {
   "cell_type": "code",
   "execution_count": 214,
   "metadata": {},
   "outputs": [
    {
     "name": "stdout",
     "output_type": "stream",
     "text": [
      "2 4 6 8 "
     ]
    }
   ],
   "source": [
    "#to print even \n",
    "n=10\n",
    "for i in range(1,n):\n",
    "    if i %2==0:\n",
    "        print(i,end=\",\")"
   ]
  },
  {
   "cell_type": "code",
   "execution_count": 241,
   "metadata": {},
   "outputs": [
    {
     "name": "stdout",
     "output_type": "stream",
     "text": [
      "1,3,5,7,9,"
     ]
    }
   ],
   "source": [
    "#to print odd \n",
    "n=10\n",
    "for i in range(1,n):\n",
    "    if i %2!=0:\n",
    "        print(i,end=\",\")"
   ]
  },
  {
   "cell_type": "code",
   "execution_count": 216,
   "metadata": {},
   "outputs": [
    {
     "name": "stdout",
     "output_type": "stream",
     "text": [
      "2 , 3 , 5 , 7 , 11 , 13 , 17 , 19 , 23 , 29 , 31 , 37 , 41 , 43 , 47 , 53 , 59 , 61 , 67 , 71 , 73 , 79 , 83 , 89 , 97 , "
     ]
    }
   ],
   "source": [
    "#to print prime \n",
    "n=100\n",
    "for i in range(2,n):\n",
    "    number_of_factors=1\n",
    "    for j in range(2,int(i**0.5)+1):\n",
    "        if i%j==0:\n",
    "            number_of_factors +=1\n",
    "            break\n",
    "    if number_of_factors==1:\n",
    "        print(i,end=\" , \")"
   ]
  },
  {
   "cell_type": "code",
   "execution_count": 217,
   "metadata": {},
   "outputs": [
    {
     "name": "stdout",
     "output_type": "stream",
     "text": [
      "i = 1 sum = 1 name = Amma\n",
      "i = 2 sum = 3 name = Amma\n",
      "i = 3 sum = 6 name = Amma\n",
      "i = 4 sum = 10 name = Amma\n",
      "i = 5 sum = 15 name = Amma\n",
      "i = 6 sum = 21 name = Amma\n",
      "i = 7 sum = 28 name = Amma\n",
      "i = 8 sum = 36 name = Amma\n",
      "i = 9 sum = 45 name = Amma\n",
      "i = 10 sum = 55 name = Amma\n",
      "i = 11 sum = 66 name = Amma\n",
      "i = 12 sum = 78 name = Amma\n",
      "i = 13 sum = 91 name = Amma\n"
     ]
    }
   ],
   "source": [
    "# to print sum of numbers till n\n",
    "i,s,n=1,1,100\n",
    "while(s<=n):\n",
    "    print(\"i = {} sum = {} name = {}\".format(i,s,name))\n",
    "    i=i+1\n",
    "    s=s+i"
   ]
  },
  {
   "cell_type": "code",
   "execution_count": 219,
   "metadata": {},
   "outputs": [
    {
     "name": "stdout",
     "output_type": "stream",
     "text": [
      "i = 1 name = Amma\n",
      "i = 2 name = Amma\n",
      "i = 3 name = Amma\n",
      "i = 4 name = Amma\n",
      "i = 5 name = Amma\n",
      "i = 6 name = Amma\n",
      "i = 7 name = Amma\n",
      "i = 8 name = Amma\n",
      "i = 9 name = Amma\n"
     ]
    }
   ],
   "source": [
    "for i in range(1,int(n**0.5)):\n",
    "    print(\"i = {} name = {}\".format(i,name))"
   ]
  },
  {
   "cell_type": "code",
   "execution_count": 221,
   "metadata": {},
   "outputs": [
    {
     "name": "stdout",
     "output_type": "stream",
     "text": [
      "Lakshmi @{;... 245 ...:}@ Eswar\n"
     ]
    }
   ],
   "source": [
    "print(\"Lakshmi\",end=\" @{;... 245 ...:}@ \") # end prevents print to not go to next line \n",
    "print(\"Eswar\")"
   ]
  },
  {
   "cell_type": "code",
   "execution_count": 222,
   "metadata": {},
   "outputs": [
    {
     "name": "stdout",
     "output_type": "stream",
     "text": [
      "(i=1,j=1) # (i=1,j=2) # (i=1,j=3) # (i=1,j=4) # (i=1,j=5) # (i=1,j=6) # (i=1,j=7) # (i=1,j=8) # (i=1,j=9) # Ending line 1 \n",
      "(i=2,j=1) # (i=2,j=2) # (i=2,j=3) # (i=2,j=4) # (i=2,j=5) # (i=2,j=6) # (i=2,j=7) # (i=2,j=8) # (i=2,j=9) # Ending line 2 \n",
      "(i=3,j=1) # (i=3,j=2) # (i=3,j=3) # (i=3,j=4) # (i=3,j=5) # (i=3,j=6) # (i=3,j=7) # (i=3,j=8) # (i=3,j=9) # Ending line 3 \n",
      "(i=4,j=1) # (i=4,j=2) # (i=4,j=3) # (i=4,j=4) # (i=4,j=5) # (i=4,j=6) # (i=4,j=7) # (i=4,j=8) # (i=4,j=9) # Ending line 4 \n",
      "(i=5,j=1) # (i=5,j=2) # (i=5,j=3) # (i=5,j=4) # (i=5,j=5) # (i=5,j=6) # (i=5,j=7) # (i=5,j=8) # (i=5,j=9) # Ending line 5 \n",
      "(i=6,j=1) # (i=6,j=2) # (i=6,j=3) # (i=6,j=4) # (i=6,j=5) # (i=6,j=6) # (i=6,j=7) # (i=6,j=8) # (i=6,j=9) # Ending line 6 \n",
      "(i=7,j=1) # (i=7,j=2) # (i=7,j=3) # (i=7,j=4) # (i=7,j=5) # (i=7,j=6) # (i=7,j=7) # (i=7,j=8) # (i=7,j=9) # Ending line 7 \n",
      "(i=8,j=1) # (i=8,j=2) # (i=8,j=3) # (i=8,j=4) # (i=8,j=5) # (i=8,j=6) # (i=8,j=7) # (i=8,j=8) # (i=8,j=9) # Ending line 8 \n",
      "(i=9,j=1) # (i=9,j=2) # (i=9,j=3) # (i=9,j=4) # (i=9,j=5) # (i=9,j=6) # (i=9,j=7) # (i=9,j=8) # (i=9,j=9) # Ending line 9 \n"
     ]
    }
   ],
   "source": [
    "#  creates 2 D matrix\n",
    "n=10\n",
    "for i in range(1,n): # i is for row \n",
    "    for j in range(1,n): # j is for coloumn\n",
    "        print(\"(i={},j={})\".format(i,j),end=\" # \")\n",
    "    print(\"Ending line {} \".format(i))"
   ]
  },
  {
   "cell_type": "code",
   "execution_count": 223,
   "metadata": {},
   "outputs": [
    {
     "name": "stdout",
     "output_type": "stream",
     "text": [
      "(1,1) # (1,2) # (1,3) # (1,4) # (1,5) # (1,6) # (1,7) # (1,8) # (1,9) # \n",
      "(2,1) # (2,2) # (2,3) # (2,4) # (2,5) # (2,6) # (2,7) # (2,8) # (2,9) # \n",
      "(3,1) # (3,2) # (3,3) # (3,4) # (3,5) # (3,6) # (3,7) # (3,8) # (3,9) # \n",
      "(4,1) # (4,2) # (4,3) # (4,4) # (4,5) # (4,6) # (4,7) # (4,8) # (4,9) # \n",
      "(5,1) # (5,2) # (5,3) # (5,4) # (5,5) # (5,6) # (5,7) # (5,8) # (5,9) # \n",
      "(6,1) # (6,2) # (6,3) # (6,4) # (6,5) # (6,6) # (6,7) # (6,8) # (6,9) # \n",
      "(7,1) # (7,2) # (7,3) # (7,4) # (7,5) # (7,6) # (7,7) # (7,8) # (7,9) # \n",
      "(8,1) # (8,2) # (8,3) # (8,4) # (8,5) # (8,6) # (8,7) # (8,8) # (8,9) # \n",
      "(9,1) # (9,2) # (9,3) # (9,4) # (9,5) # (9,6) # (9,7) # (9,8) # (9,9) # \n"
     ]
    }
   ],
   "source": [
    "n=10\n",
    "for i in range(1,n): # i is for row \n",
    "    for j in range(1,n): # j is for coloumn\n",
    "        print(\"({},{})\".format(i,j),end=\" # \")\n",
    "    print()"
   ]
  },
  {
   "cell_type": "code",
   "execution_count": 224,
   "metadata": {},
   "outputs": [
    {
     "name": "stdout",
     "output_type": "stream",
     "text": [
      "(1,1,1) # (1,1,2) # (1,1,3) # (1,1,4) # \n",
      "(1,2,1) # (1,2,2) # (1,2,3) # (1,2,4) # \n",
      "(1,3,1) # (1,3,2) # (1,3,3) # (1,3,4) # \n",
      "\n",
      "(2,1,1) # (2,1,2) # (2,1,3) # (2,1,4) # \n",
      "(2,2,1) # (2,2,2) # (2,2,3) # (2,2,4) # \n",
      "(2,3,1) # (2,3,2) # (2,3,3) # (2,3,4) # \n",
      "\n",
      "(3,1,1) # (3,1,2) # (3,1,3) # (3,1,4) # \n",
      "(3,2,1) # (3,2,2) # (3,2,3) # (3,2,4) # \n",
      "(3,3,1) # (3,3,2) # (3,3,3) # (3,3,4) # \n",
      "\n"
     ]
    }
   ],
   "source": [
    "n=4\n",
    "for i in range(1,n): # i is for 1D\n",
    "    for j in range(1,n): # j is for 2D\n",
    "        for k in range(1,4+1): # k is for 3D\n",
    "            print(\"({},{},{})\".format(i,j,k),end=\" # \")\n",
    "        print()\n",
    "    print()"
   ]
  },
  {
   "cell_type": "code",
   "execution_count": 225,
   "metadata": {},
   "outputs": [
    {
     "name": "stdout",
     "output_type": "stream",
     "text": [
      "(i=1,j=1,k=1) # (i=1,j=1,k=2) # (i=1,j=1,k=3) # (i=1,j=1,k=4) # Ending j=1 loop\n",
      "(i=1,j=2,k=1) # (i=1,j=2,k=2) # (i=1,j=2,k=3) # (i=1,j=2,k=4) # Ending j=2 loop\n",
      "(i=1,j=3,k=1) # (i=1,j=3,k=2) # (i=1,j=3,k=3) # (i=1,j=3,k=4) # Ending j=3 loop\n",
      "Ending i=1 loop\n",
      "(i=2,j=1,k=1) # (i=2,j=1,k=2) # (i=2,j=1,k=3) # (i=2,j=1,k=4) # Ending j=1 loop\n",
      "(i=2,j=2,k=1) # (i=2,j=2,k=2) # (i=2,j=2,k=3) # (i=2,j=2,k=4) # Ending j=2 loop\n",
      "(i=2,j=3,k=1) # (i=2,j=3,k=2) # (i=2,j=3,k=3) # (i=2,j=3,k=4) # Ending j=3 loop\n",
      "Ending i=2 loop\n",
      "(i=3,j=1,k=1) # (i=3,j=1,k=2) # (i=3,j=1,k=3) # (i=3,j=1,k=4) # Ending j=1 loop\n",
      "(i=3,j=2,k=1) # (i=3,j=2,k=2) # (i=3,j=2,k=3) # (i=3,j=2,k=4) # Ending j=2 loop\n",
      "(i=3,j=3,k=1) # (i=3,j=3,k=2) # (i=3,j=3,k=3) # (i=3,j=3,k=4) # Ending j=3 loop\n",
      "Ending i=3 loop\n"
     ]
    }
   ],
   "source": [
    "for i in range(1,n): # i is for row \n",
    "    for j in range(1,n): # j is for coloumn\n",
    "        for k in range(1,4+1): \n",
    "            print(\"(i={},j={},k={})\".format(i,j,k),end=\" # \")\n",
    "        print(\"Ending j={} loop\".format(j))\n",
    "    print(\"Ending i={} loop\".format(i))"
   ]
  },
  {
   "cell_type": "code",
   "execution_count": 226,
   "metadata": {},
   "outputs": [
    {
     "name": "stdout",
     "output_type": "stream",
     "text": [
      "i = 1 j = 1 k = 1  name = Amma\n",
      "i = 1 j = 1 k = 2  name = Amma\n",
      "i = 1 j = 1 k = 3  name = Amma\n",
      "i = 2 j = 1 k = 1  name = Amma\n",
      "i = 2 j = 1 k = 2  name = Amma\n",
      "i = 2 j = 1 k = 3  name = Amma\n",
      "i = 2 j = 2 k = 1  name = Amma\n",
      "i = 2 j = 2 k = 2  name = Amma\n",
      "i = 2 j = 2 k = 3  name = Amma\n",
      "i = 3 j = 1 k = 1  name = Amma\n",
      "i = 3 j = 1 k = 2  name = Amma\n",
      "i = 3 j = 1 k = 3  name = Amma\n",
      "i = 3 j = 2 k = 1  name = Amma\n",
      "i = 3 j = 2 k = 2  name = Amma\n",
      "i = 3 j = 2 k = 3  name = Amma\n",
      "i = 3 j = 3 k = 1  name = Amma\n",
      "i = 3 j = 3 k = 2  name = Amma\n",
      "i = 3 j = 3 k = 3  name = Amma\n",
      "i = 4 j = 1 k = 1  name = Amma\n",
      "i = 4 j = 1 k = 2  name = Amma\n",
      "i = 4 j = 1 k = 3  name = Amma\n",
      "i = 4 j = 2 k = 1  name = Amma\n",
      "i = 4 j = 2 k = 2  name = Amma\n",
      "i = 4 j = 2 k = 3  name = Amma\n",
      "i = 4 j = 3 k = 1  name = Amma\n",
      "i = 4 j = 3 k = 2  name = Amma\n",
      "i = 4 j = 3 k = 3  name = Amma\n",
      "i = 4 j = 4 k = 1  name = Amma\n",
      "i = 4 j = 4 k = 2  name = Amma\n",
      "i = 4 j = 4 k = 3  name = Amma\n"
     ]
    }
   ],
   "source": [
    "n=5\n",
    "for i in range(1,n):\n",
    "    for j in range(1,i+1):# j is from 1 to <= i\n",
    "        for k in range(1,3+1):# k is from 1 to <= 3\n",
    "            print(\"i = {} j = {} k = {}  name = {}\".format(i,j,k,name))\n",
    "            "
   ]
  },
  {
   "cell_type": "code",
   "execution_count": 227,
   "metadata": {},
   "outputs": [
    {
     "name": "stdout",
     "output_type": "stream",
     "text": [
      "i = 1 j = 1 k = 1  name = Amma # \n",
      "i = 1 j = 2 k = 1  name = Amma # \n",
      "i = 1 j = 3 k = 1  name = Amma # \n",
      "i = 1 j = 4 k = 1  name = Amma # \n",
      "\n",
      "i = 2 j = 1 k = 1  name = Amma # \n",
      "i = 2 j = 2 k = 1  name = Amma # \n",
      "i = 2 j = 3 k = 1  name = Amma # \n",
      "i = 2 j = 4 k = 1  name = Amma # \n",
      "i = 2 j = 5 k = 1  name = Amma # \n",
      "i = 2 j = 6 k = 1  name = Amma # \n",
      "i = 2 j = 7 k = 1  name = Amma # \n",
      "i = 2 j = 8 k = 1  name = Amma # \n",
      "i = 2 j = 9 k = 1  name = Amma # \n",
      "\n",
      "i = 3 j = 1 k = 1  name = Amma # \n",
      "i = 3 j = 2 k = 1  name = Amma # \n",
      "i = 3 j = 3 k = 1  name = Amma # \n",
      "i = 3 j = 4 k = 1  name = Amma # \n",
      "i = 3 j = 5 k = 1  name = Amma # \n",
      "i = 3 j = 6 k = 1  name = Amma # \n",
      "i = 3 j = 7 k = 1  name = Amma # \n",
      "i = 3 j = 8 k = 1  name = Amma # \n",
      "i = 3 j = 9 k = 1  name = Amma # \n",
      "i = 3 j = 10 k = 1  name = Amma # \n",
      "i = 3 j = 11 k = 1  name = Amma # \n",
      "i = 3 j = 12 k = 1  name = Amma # \n",
      "i = 3 j = 13 k = 1  name = Amma # \n",
      "i = 3 j = 14 k = 1  name = Amma # \n",
      "i = 3 j = 15 k = 1  name = Amma # \n",
      "i = 3 j = 16 k = 1  name = Amma # \n",
      "\n",
      "i = 4 j = 1 k = 1  name = Amma # \n",
      "i = 4 j = 2 k = 1  name = Amma # \n",
      "i = 4 j = 3 k = 1  name = Amma # \n",
      "i = 4 j = 4 k = 1  name = Amma # \n",
      "i = 4 j = 5 k = 1  name = Amma # \n",
      "i = 4 j = 6 k = 1  name = Amma # \n",
      "i = 4 j = 7 k = 1  name = Amma # \n",
      "i = 4 j = 8 k = 1  name = Amma # \n",
      "i = 4 j = 9 k = 1  name = Amma # \n",
      "i = 4 j = 10 k = 1  name = Amma # \n",
      "i = 4 j = 11 k = 1  name = Amma # \n",
      "i = 4 j = 12 k = 1  name = Amma # \n",
      "i = 4 j = 13 k = 1  name = Amma # \n",
      "i = 4 j = 14 k = 1  name = Amma # \n",
      "i = 4 j = 15 k = 1  name = Amma # \n",
      "i = 4 j = 16 k = 1  name = Amma # \n",
      "i = 4 j = 17 k = 1  name = Amma # \n",
      "i = 4 j = 18 k = 1  name = Amma # \n",
      "i = 4 j = 19 k = 1  name = Amma # \n",
      "i = 4 j = 20 k = 1  name = Amma # \n",
      "i = 4 j = 21 k = 1  name = Amma # \n",
      "i = 4 j = 22 k = 1  name = Amma # \n",
      "i = 4 j = 23 k = 1  name = Amma # \n",
      "i = 4 j = 24 k = 1  name = Amma # \n",
      "i = 4 j = 25 k = 1  name = Amma # \n",
      "\n"
     ]
    }
   ],
   "source": [
    "n=5\n",
    "for i in range(1,n):\n",
    "    for j in range(1,((i+1)**2)+1):# j is from 1 to <= i**2\n",
    "        for k in range(1,(n)//2):# k is from 1 to <= 3\n",
    "            print(\"i = {} j = {} k = {}  name = {}\".format(i,j,k,name),end=\" # \")\n",
    "        print()\n",
    "    print()"
   ]
  },
  {
   "cell_type": "code",
   "execution_count": 228,
   "metadata": {},
   "outputs": [
    {
     "name": "stdout",
     "output_type": "stream",
     "text": [
      "hello\n"
     ]
    }
   ],
   "source": [
    "print(\"hello\")"
   ]
  },
  {
   "cell_type": "code",
   "execution_count": 229,
   "metadata": {},
   "outputs": [
    {
     "name": "stdout",
     "output_type": "stream",
     "text": [
      "i = 2 2*i = 4 name = Amma\n",
      "i = 6 2*i = 12 name = Amma\n",
      "i = 10 2*i = 20 name = Amma\n",
      "i = 14 2*i = 28 name = Amma\n",
      "i = 18 2*i = 36 name = Amma\n",
      "i = 22 2*i = 44 name = Amma\n",
      "i = 26 2*i = 52 name = Amma\n",
      "i = 30 2*i = 60 name = Amma\n",
      "i = 34 2*i = 68 name = Amma\n",
      "i = 38 2*i = 76 name = Amma\n",
      "i = 42 2*i = 84 name = Amma\n",
      "i = 46 2*i = 92 name = Amma\n",
      "i = 50 2*i = 100 name = Amma\n",
      "i = 54 2*i = 108 name = Amma\n",
      "i = 58 2*i = 116 name = Amma\n",
      "i = 62 2*i = 124 name = Amma\n",
      "i = 66 2*i = 132 name = Amma\n",
      "i = 70 2*i = 140 name = Amma\n",
      "i = 74 2*i = 148 name = Amma\n",
      "i = 78 2*i = 156 name = Amma\n",
      "i = 82 2*i = 164 name = Amma\n",
      "i = 86 2*i = 172 name = Amma\n",
      "i = 90 2*i = 180 name = Amma\n",
      "i = 94 2*i = 188 name = Amma\n",
      "i = 98 2*i = 196 name = Amma\n",
      "i = 102 2*i = 204 name = Amma\n",
      "i = 106 2*i = 212 name = Amma\n",
      "i = 110 2*i = 220 name = Amma\n",
      "i = 114 2*i = 228 name = Amma\n",
      "i = 118 2*i = 236 name = Amma\n",
      "i = 122 2*i = 244 name = Amma\n",
      "i = 126 2*i = 252 name = Amma\n",
      "i = 130 2*i = 260 name = Amma\n",
      "i = 134 2*i = 268 name = Amma\n",
      "i = 138 2*i = 276 name = Amma\n",
      "i = 142 2*i = 284 name = Amma\n",
      "i = 146 2*i = 292 name = Amma\n",
      "i = 150 2*i = 300 name = Amma\n",
      "i = 154 2*i = 308 name = Amma\n",
      "i = 158 2*i = 316 name = Amma\n",
      "i = 162 2*i = 324 name = Amma\n",
      "i = 166 2*i = 332 name = Amma\n",
      "i = 170 2*i = 340 name = Amma\n",
      "i = 174 2*i = 348 name = Amma\n",
      "i = 178 2*i = 356 name = Amma\n",
      "i = 182 2*i = 364 name = Amma\n",
      "i = 186 2*i = 372 name = Amma\n",
      "i = 190 2*i = 380 name = Amma\n",
      "i = 194 2*i = 388 name = Amma\n",
      "i = 198 2*i = 396 name = Amma\n"
     ]
    }
   ],
   "source": [
    "n=100\n",
    "i=1\n",
    "for i in range(1,n,i*2):\n",
    "    i=i*2\n",
    "    print(\"i = {} 2*i = {} name = {}\".format(i,2*i,name))\n"
   ]
  },
  {
   "cell_type": "code",
   "execution_count": 230,
   "metadata": {},
   "outputs": [
    {
     "name": "stdout",
     "output_type": "stream",
     "text": [
      "i = 1 2*i = 2 name = Amma\n"
     ]
    }
   ],
   "source": [
    "n=100\n",
    "for i in range(1,n,i**2):\n",
    "    print(\"i = {} 2*i = {} name = {}\".format(i,2*i,name))"
   ]
  },
  {
   "cell_type": "code",
   "execution_count": 231,
   "metadata": {},
   "outputs": [
    {
     "name": "stdout",
     "output_type": "stream",
     "text": [
      "1,2,3,4,5,6,7,8,9,10,11,12,13,14,15,16,17,18,19,20,21,22,23,24,25,26,27,28,29,30,"
     ]
    }
   ],
   "source": [
    "# Generate numbers till n incresing\n",
    "n,i=30,1\n",
    "while(i<=n):\n",
    "    print(\"{}\".format(i),end=\",\")\n",
    "    i=i+1"
   ]
  },
  {
   "cell_type": "code",
   "execution_count": 232,
   "metadata": {},
   "outputs": [
    {
     "name": "stdout",
     "output_type": "stream",
     "text": [
      "30,29,28,27,26,25,24,23,22,21,20,19,18,17,16,15,14,13,12,11,10,9,8,7,6,5,4,3,2,1,"
     ]
    }
   ],
   "source": [
    "# Generate numbers till n decresing\n",
    "n,i=30,1\n",
    "while(n>=i):\n",
    "    print(\"{}\".format(n),end=\",\")\n",
    "    n=n-1"
   ]
  },
  {
   "cell_type": "code",
   "execution_count": 233,
   "metadata": {},
   "outputs": [
    {
     "name": "stdout",
     "output_type": "stream",
     "text": [
      "1,3,5,7,9,11,13,15,17,19,21,23,25,27,29,"
     ]
    }
   ],
   "source": [
    "# prints odd numbers\n",
    "n,i=30,1\n",
    "while(i<n):\n",
    "    print(\"{}\".format(i),end=\",\")\n",
    "    i=i+2"
   ]
  },
  {
   "cell_type": "code",
   "execution_count": 234,
   "metadata": {},
   "outputs": [
    {
     "name": "stdout",
     "output_type": "stream",
     "text": [
      "0,2,4,6,8,10,12,14,16,18,20,22,24,26,28,"
     ]
    }
   ],
   "source": [
    "# prints even numbers\n",
    "n,i=30,0\n",
    "while(i<n):\n",
    "    print(\"{}\".format(i),end=\",\")\n",
    "    i=i+2"
   ]
  },
  {
   "cell_type": "code",
   "execution_count": 235,
   "metadata": {},
   "outputs": [
    {
     "name": "stdout",
     "output_type": "stream",
     "text": [
      "1,2,4,8,16,32,64,128,256,512,1024,"
     ]
    }
   ],
   "source": [
    "# power of k =2\n",
    "n,i,k=1024,1,2\n",
    "while(i<=n):\n",
    "    print(\"{}\".format(i),end=\",\")\n",
    "    i=i*k"
   ]
  },
  {
   "cell_type": "code",
   "execution_count": 236,
   "metadata": {},
   "outputs": [
    {
     "name": "stdout",
     "output_type": "stream",
     "text": [
      "1,3,9,27,81,243,729,"
     ]
    }
   ],
   "source": [
    "# power of k=3\n",
    "n,i,k=1024,1,3\n",
    "while(i<=n):\n",
    "    print(\"{}\".format(i),end=\",\")\n",
    "    i=i*k"
   ]
  },
  {
   "cell_type": "code",
   "execution_count": 237,
   "metadata": {},
   "outputs": [
    {
     "name": "stdout",
     "output_type": "stream",
     "text": [
      "1024,512,256,128,64,32,16,8,4,2,"
     ]
    }
   ],
   "source": [
    "# to print log of k to base 2\n",
    "n,k=1024,2\n",
    "while(n>1):\n",
    "    print(\"{}\".format(n),end=\",\")\n",
    "    n=n//k"
   ]
  },
  {
   "cell_type": "code",
   "execution_count": 238,
   "metadata": {},
   "outputs": [
    {
     "name": "stdout",
     "output_type": "stream",
     "text": [
      "729,243,81,27,9,3,"
     ]
    }
   ],
   "source": [
    "# to print log of k to base 3\n",
    "n,k=729,3\n",
    "while(n>1):\n",
    "    print(\"{}\".format(n),end=\",\")\n",
    "    n=n//k"
   ]
  },
  {
   "cell_type": "code",
   "execution_count": 239,
   "metadata": {},
   "outputs": [
    {
     "name": "stdout",
     "output_type": "stream",
     "text": [
      "i = 1 2*i = 2 name = Amma\n",
      "i = 2 2*i = 4 name = Amma\n",
      "i = 4 2*i = 8 name = Amma\n",
      "i = 8 2*i = 16 name = Amma\n",
      "i = 16 2*i = 32 name = Amma\n",
      "i = 32 2*i = 64 name = Amma\n",
      "i = 64 2*i = 128 name = Amma\n",
      "i = 128 2*i = 256 name = Amma\n",
      "i = 256 2*i = 512 name = Amma\n",
      "i = 512 2*i = 1024 name = Amma\n",
      "i = 1024 2*i = 2048 name = Amma\n"
     ]
    }
   ],
   "source": [
    "n,i=1024,1\n",
    "while(i<=n):\n",
    "    print(\"i = {} 2*i = {} name = {}\".format(i,2*i,name))\n",
    "    i=i*2"
   ]
  },
  {
   "cell_type": "code",
   "execution_count": null,
   "metadata": {},
   "outputs": [],
   "source": []
  }
 ],
 "metadata": {
  "kernelspec": {
   "display_name": "datascience",
   "language": "python",
   "name": "python3"
  },
  "language_info": {
   "codemirror_mode": {
    "name": "ipython",
    "version": 3
   },
   "file_extension": ".py",
   "mimetype": "text/x-python",
   "name": "python",
   "nbconvert_exporter": "python",
   "pygments_lexer": "ipython3",
   "version": "3.9.6"
  },
  "orig_nbformat": 4
 },
 "nbformat": 4,
 "nbformat_minor": 2
}
